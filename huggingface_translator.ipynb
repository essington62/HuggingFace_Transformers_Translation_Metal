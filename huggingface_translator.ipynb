{
 "cells": [
  {
   "cell_type": "markdown",
   "metadata": {},
   "source": [
    "### Script to translate from English to Portugueses using HuggingFace Transformers.\n",
    "- Benchmark between CPU and GPU using M2 Pro ARM processor"
   ]
  },
  {
   "cell_type": "code",
   "execution_count": null,
   "metadata": {},
   "outputs": [],
   "source": [
    "# script de traducao com hugging face\n",
    "# ! pip install transformers sentencepiece torch\n",
    "# ! pip install transformers sentencepiece torch\n",
    "# ! pip install huggingface-hub\n",
    "# ! huggingface-cli login\n",
    "# ! pip install sacremoses\n"
   ]
  },
  {
   "cell_type": "code",
   "execution_count": 5,
   "metadata": {},
   "outputs": [
    {
     "name": "stderr",
     "output_type": "stream",
     "text": [
      "[nltk_data] Downloading package punkt to\n",
      "[nltk_data]     /Users/edmundobrown/nltk_data...\n",
      "[nltk_data]   Package punkt is already up-to-date!\n"
     ]
    }
   ],
   "source": [
    "#\n",
    "# Importando os modelos\n",
    "#\n",
    "from transformers import MarianMTModel, MarianTokenizer\n",
    "import nltk\n",
    "nltk.download('punkt')\n",
    "from nltk.tokenize import sent_tokenize"
   ]
  },
  {
   "cell_type": "code",
   "execution_count": 9,
   "metadata": {},
   "outputs": [
    {
     "name": "stderr",
     "output_type": "stream",
     "text": [
      "[nltk_data] Downloading package punkt to\n",
      "[nltk_data]     /Users/edmundobrown/nltk_data...\n",
      "[nltk_data]   Package punkt is already up-to-date!\n"
     ]
    },
    {
     "data": {
      "text/plain": [
       "True"
      ]
     },
     "execution_count": 9,
     "metadata": {},
     "output_type": "execute_result"
    }
   ],
   "source": [
    "import nltk\n",
    "nltk.data.path.append('/Users/edmundobrown/nltk_data')  # Adiciona explicitamente o caminho\n",
    "\n",
    "# Garantir que o punkt esteja instalado\n",
    "nltk.download('punkt', download_dir='/Users/edmundobrown/nltk_data')\n",
    "\n"
   ]
  },
  {
   "cell_type": "markdown",
   "metadata": {},
   "source": [
    "### Running on CPU"
   ]
  },
  {
   "cell_type": "code",
   "execution_count": 1,
   "metadata": {},
   "outputs": [
    {
     "name": "stderr",
     "output_type": "stream",
     "text": [
      "/Users/edmundobrown/opt/anaconda3/envs/Yoga/lib/python3.12/site-packages/transformers/models/marian/tokenization_marian.py:175: UserWarning: Recommended: pip install sacremoses.\n",
      "  warnings.warn(\"Recommended: pip install sacremoses.\")\n"
     ]
    },
    {
     "name": "stdout",
     "output_type": "stream",
     "text": [
      "Traduzindo o arquivo... Isso pode levar algum tempo.\n"
     ]
    },
    {
     "data": {
      "application/vnd.jupyter.widget-view+json": {
       "model_id": "b55df42ab216406990f0aa16e5cdf84e",
       "version_major": 2,
       "version_minor": 0
      },
      "text/plain": [
       "model.safetensors:   0%|          | 0.00/295M [00:00<?, ?B/s]"
      ]
     },
     "metadata": {},
     "output_type": "display_data"
    },
    {
     "name": "stdout",
     "output_type": "stream",
     "text": [
      "Tradução concluída! Arquivo salvo em: /Users/edmundobrown/Documents/PosYoga/dados/Ingles/Livros_traduzidos/yoga_sutras_patanjali_traduzido_HF.txt\n"
     ]
    }
   ],
   "source": [
    "from transformers import MarianMTModel, MarianTokenizer\n",
    "from nltk.tokenize.punkt import PunktSentenceTokenizer, PunktParameters\n",
    "\n",
    "# Configurar o tokenizador manualmente para dividir em sentenças\n",
    "punkt_parameters = PunktParameters()\n",
    "punkt_parameters.abbrev_types = set(['mr', 'dr', 'mrs', 'etc'])\n",
    "sentence_tokenizer = PunktSentenceTokenizer(punkt_parameters)\n",
    "\n",
    "# Função para carregar o modelo e tokenizer\n",
    "def load_translation_model():\n",
    "    model_name = \"Helsinki-NLP/opus-mt-en-roa\"  # Modelo atualizado para idiomas românicos\n",
    "    tokenizer = MarianTokenizer.from_pretrained(model_name)\n",
    "    model = MarianMTModel.from_pretrained(model_name)\n",
    "    return model, tokenizer\n",
    "\n",
    "# Função para traduzir uma sentença\n",
    "def translate_text(text, model, tokenizer):\n",
    "    text = f\">>por<< {text}\"\n",
    "    inputs = tokenizer(text, return_tensors=\"pt\", max_length=512, truncation=True)\n",
    "    translated_tokens = model.generate(**inputs)\n",
    "    return tokenizer.decode(translated_tokens[0], skip_special_tokens=True)\n",
    "\n",
    "# Função para traduzir textos grandes divididos em sentenças\n",
    "def translate_large_text(text, model, tokenizer):\n",
    "    sentences = sentence_tokenizer.tokenize(text)  # Usar o tokenizador manual\n",
    "    translations = []\n",
    "    for sentence in sentences:\n",
    "        translations.append(translate_text(sentence, model, tokenizer))\n",
    "    return \" \".join(translations)\n",
    "\n",
    "# Função principal para traduzir o arquivo\n",
    "def translate_file(input_file_path, output_file_path):\n",
    "    # Carregar o modelo e tokenizer\n",
    "    model, tokenizer = load_translation_model()\n",
    "    \n",
    "    # Ler o conteúdo do arquivo de entrada\n",
    "    with open(input_file_path, \"r\", encoding=\"utf-8\") as f:\n",
    "        english_text = f.read()\n",
    "    \n",
    "    # Traduzir o texto\n",
    "    print(\"Traduzindo o arquivo... Isso pode levar algum tempo.\")\n",
    "    translated_text = translate_large_text(english_text, model, tokenizer)\n",
    "    \n",
    "    # Salvar a tradução no arquivo de saída\n",
    "    with open(output_file_path, \"w\", encoding=\"utf-8\") as f:\n",
    "        f.write(translated_text)\n",
    "    print(f\"Tradução concluída! Arquivo salvo em: {output_file_path}\")\n",
    "\n",
    "# Caminho do arquivo de entrada (livro em inglês) e saída (tradução em português)\n",
    "input_file = \"/Users/edmundobrown/Documents/PosYoga/dados/Ingles/Livros(texto)/The Yoga Sutras of Patanjali- The Book of the Spiritual Man.txt\"  # Substitua pelo caminho do seu arquivo em inglês\n",
    "output_file = \"/Users/edmundobrown/Documents/PosYoga/dados/Ingles/Livros_traduzidos/yoga_sutras_patanjali_traduzido_HF.txt\"  # Arquivo traduzido\n",
    "\n",
    "\n",
    "# Executar a tradução\n",
    "translate_file(input_file, output_file)\n",
    "\n",
    "\n",
    "\n",
    "\n"
   ]
  },
  {
   "cell_type": "markdown",
   "metadata": {},
   "source": [
    "### Running on GPU with Metal to compare the performance\n"
   ]
  },
  {
   "cell_type": "code",
   "execution_count": null,
   "metadata": {},
   "outputs": [],
   "source": [
    "# ! pip install torch torchvision torchaudio --index-url https://download.pytorch.org/whl/cpu\n"
   ]
  },
  {
   "cell_type": "code",
   "execution_count": 15,
   "metadata": {},
   "outputs": [
    {
     "name": "stdout",
     "output_type": "stream",
     "text": [
      "Metal disponível: True\n"
     ]
    }
   ],
   "source": [
    "import torch\n",
    "print(\"Metal disponível:\", torch.backends.mps.is_available())\n"
   ]
  },
  {
   "cell_type": "code",
   "execution_count": 16,
   "metadata": {},
   "outputs": [
    {
     "name": "stdout",
     "output_type": "stream",
     "text": [
      "Modelo movido para GPU com Metal.\n",
      "Traduzindo o arquivo... Isso pode levar algum tempo.\n",
      "Tradução concluída! Arquivo salvo em: /Users/edmundobrown/Documents/PosYoga/dados/Ingles/Livros_traduzidos/autismo_traduzido.txt\n"
     ]
    }
   ],
   "source": [
    "from transformers import MarianMTModel, MarianTokenizer\n",
    "from nltk.tokenize.punkt import PunktSentenceTokenizer, PunktParameters\n",
    "import torch\n",
    "\n",
    "# Configurar o tokenizador manualmente para dividir em sentenças\n",
    "punkt_parameters = PunktParameters()\n",
    "punkt_parameters.abbrev_types = set(['mr', 'dr', 'mrs', 'etc'])\n",
    "sentence_tokenizer = PunktSentenceTokenizer(punkt_parameters)\n",
    "\n",
    "# Função para carregar o modelo e tokenizer\n",
    "def load_translation_model():\n",
    "    model_name = \"Helsinki-NLP/opus-mt-en-roa\"  # Modelo atualizado para idiomas românicos\n",
    "    tokenizer = MarianTokenizer.from_pretrained(model_name)\n",
    "    model = MarianMTModel.from_pretrained(model_name)\n",
    "\n",
    "    # Mover o modelo para a GPU (MPS) se disponível\n",
    "    if torch.backends.mps.is_available():\n",
    "        model = model.to(\"mps\")\n",
    "        print(\"Modelo movido para GPU com Metal.\")\n",
    "    else:\n",
    "        print(\"GPU com Metal não disponível. Usando CPU.\")\n",
    "\n",
    "    return model, tokenizer\n",
    "\n",
    "# Função para traduzir uma sentença\n",
    "def translate_text(text, model, tokenizer, device):\n",
    "    inputs = tokenizer(text, return_tensors=\"pt\", max_length=512, truncation=True).to(device)\n",
    "    translated_tokens = model.generate(**inputs)\n",
    "    return tokenizer.decode(translated_tokens[0], skip_special_tokens=True)\n",
    "\n",
    "# Função para traduzir textos grandes divididos em sentenças\n",
    "def translate_large_text(text, model, tokenizer, device):\n",
    "    sentences = sentence_tokenizer.tokenize(text)  # Usar o tokenizador manual\n",
    "    translations = []\n",
    "    for sentence in sentences:\n",
    "        translations.append(translate_text(sentence, model, tokenizer, device))\n",
    "    return \" \".join(translations)\n",
    "\n",
    "# Função principal para traduzir o arquivo\n",
    "def translate_file(input_file_path, output_file_path):\n",
    "    # Carregar o modelo e tokenizer\n",
    "    model, tokenizer = load_translation_model()\n",
    "    device = \"mps\" if torch.backends.mps.is_available() else \"cpu\"\n",
    "\n",
    "    # Ler o conteúdo do arquivo de entrada\n",
    "    with open(input_file_path, \"r\", encoding=\"utf-8\") as f:\n",
    "        english_text = f.read()\n",
    "    \n",
    "    # Traduzir o texto\n",
    "    print(\"Traduzindo o arquivo... Isso pode levar algum tempo.\")\n",
    "    translated_text = translate_large_text(english_text, model, tokenizer, device)\n",
    "    \n",
    "    # Salvar a tradução no arquivo de saída\n",
    "    with open(output_file_path, \"w\", encoding=\"utf-8\") as f:\n",
    "        f.write(translated_text)\n",
    "    print(f\"Tradução concluída! Arquivo salvo em: {output_file_path}\")\n",
    "\n",
    "\n",
    "# Caminho do arquivo de entrada (livro em inglês) e saída (tradução em português)\n",
    "input_file = \"/Users/edmundobrown/Documents/PosYoga/dados/Ingles/livros_pdf/Ingles_extraido_pdf/Autism.txt\"  # Substitua pelo caminho do seu arquivo em inglês\n",
    "output_file = \"/Users/edmundobrown/Documents/PosYoga/dados/Ingles/Livros_traduzidos/autismo_traduzido.txt\"  # Arquivo traduzido\n",
    "# Executar a tradução\n",
    "translate_file(input_file, output_file)\n"
   ]
  },
  {
   "cell_type": "code",
   "execution_count": null,
   "metadata": {},
   "outputs": [],
   "source": []
  }
 ],
 "metadata": {
  "kernelspec": {
   "display_name": "Python 3",
   "language": "python",
   "name": "python3"
  },
  "language_info": {
   "codemirror_mode": {
    "name": "ipython",
    "version": 3
   },
   "file_extension": ".py",
   "mimetype": "text/x-python",
   "name": "python",
   "nbconvert_exporter": "python",
   "pygments_lexer": "ipython3",
   "version": "3.12.7"
  }
 },
 "nbformat": 4,
 "nbformat_minor": 2
}
